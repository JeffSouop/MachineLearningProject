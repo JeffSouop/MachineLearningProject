{
 "cells": [
  {
   "cell_type": "markdown",
   "source": [
    "# TP2 Machine Learning\n",
    "## Apprentissage de réseaux de neurones pour la classification\n",
    "Vous devez écrire un notebook python dans Jupyter. Les fonctions en italique sont documentées dans\n",
    "le tutoriel de scikitlearn (https://scikit-learn.org/stable/index.html ).\n",
    "### 1. Réseaux mono-couche pour la classification\n",
    "#### a) Charger le fichier de données dataset1.dat.\n",
    "Préciser le nombre d’observations, leurs dimensions et le nombre de classes.\n",
    "Séparer les données en bases d’apprentissage et de test avec un ratio de 70/30. Afficher les\n",
    "données."
   ],
   "metadata": {
    "collapsed": false
   },
   "id": "a9b9cf0448f9e38e"
  },
  {
   "cell_type": "code",
   "execution_count": 2,
   "id": "initial_id",
   "metadata": {
    "collapsed": true,
    "ExecuteTime": {
     "end_time": "2024-02-13T08:53:19.081229Z",
     "start_time": "2024-02-13T08:53:19.056244Z"
    }
   },
   "outputs": [
    {
     "name": "stdout",
     "output_type": "stream",
     "text": [
      "Nombre d'observations : 300\n",
      "Dimensions des observations : 2\n",
      "Nombre de classes : 3\n"
     ]
    }
   ],
   "source": [
    "import numpy as np\n",
    "from sklearn.model_selection import train_test_split\n",
    "\n",
    "data = np.loadtxt('dataset1.dat')\n",
    "\n",
    "X = data[:, :-1]\n",
    "y = data[:, -1]\n",
    "\n",
    "nb_observations, nb_features = X.shape\n",
    "nb_classes = len(np.unique(y))\n",
    "\n",
    "print(\"Nombre d'observations :\", nb_observations)\n",
    "print(\"Dimensions des observations :\", nb_features)\n",
    "print(\"Nombre de classes :\", nb_classes)\n",
    "\n",
    "# Séparer les données en bases d’apprentissage et de test avec un ratio de 70/30\n",
    "X_train, X_test, y_train, y_test = train_test_split(X, y, test_size=0.3, random_state=42)\n",
    "\n",
    "# print(\"Base d'apprentissage - Features (X) :\\n\", X_train)\n",
    "# print(\"Base d'apprentissage - Étiquettes (y) :\\n\", y_train)\n",
    "# print(\"Base de test - Features (X) :\\n\", X_test)\n",
    "# print(\"Base de test - Étiquettes (y) :\\n\", y_test)\n"
   ]
  },
  {
   "cell_type": "markdown",
   "source": [
    "#### b) Dans la suite, on utilisera l’instruction suivante pour définir un réseau de neurones classifieur mono-couche :\n",
    "clf1=SGDClassifier(loss='perceptron', eta0=A, max_iter=B, learning_rate='constant')\n",
    "À quoi correspondent ces différents paramètres ?\n",
    "Compte tenu des informations déterminées en a), préciser le nombre de paramètres libres (poids et biais) de ce réseau."
   ],
   "metadata": {
    "collapsed": false
   },
   "id": "20fe9e49ecc261b5"
  },
  {
   "cell_type": "markdown",
   "source": [
    "`loss='perceptron'` : Cela indique que l'algorithme utilisera la fonction de perte du perceptron, qui est une fonction de perte linéaire utilisée pour les problèmes de classification binaire.\n",
    "\n",
    "`eta0=A` : C'est le taux d'apprentissage initial du modèle. Ce paramètre contrôle la taille des pas de mise à jour des poids lors de la descente de gradient. La valeur A doit être spécifiée.\n",
    "\n",
    "`max_iter=B` : C'est le nombre maximum d'itérations que l'algorithme effectuera lors de l'entraînement. Une fois que ce nombre d'itérations est atteint, l'algorithme s'arrête, même si la convergence n'est pas atteinte.\n",
    "\n",
    "`learning_rate='constant'` : Cela signifie que le taux d'apprentissage reste constant tout au long de l'entraînement."
   ],
   "metadata": {
    "collapsed": false
   },
   "id": "7a322b87b5575d47"
  },
  {
   "cell_type": "code",
   "outputs": [],
   "source": [],
   "metadata": {
    "collapsed": false
   },
   "id": "ec7869ffeea784cc"
  }
 ],
 "metadata": {
  "kernelspec": {
   "display_name": "Python 3",
   "language": "python",
   "name": "python3"
  },
  "language_info": {
   "codemirror_mode": {
    "name": "ipython",
    "version": 2
   },
   "file_extension": ".py",
   "mimetype": "text/x-python",
   "name": "python",
   "nbconvert_exporter": "python",
   "pygments_lexer": "ipython2",
   "version": "2.7.6"
  }
 },
 "nbformat": 4,
 "nbformat_minor": 5
}
